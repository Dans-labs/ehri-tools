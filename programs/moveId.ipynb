{
 "cells": [
  {
   "cell_type": "markdown",
   "metadata": {},
   "source": [
    "# Move Identifier"
   ]
  },
  {
   "cell_type": "code",
   "execution_count": 1,
   "metadata": {},
   "outputs": [],
   "source": [
    "import os\n",
    "import collections\n",
    "from glob import glob\n",
    "from shutil import rmtree\n",
    "import xml.etree.ElementTree as ET"
   ]
  },
  {
   "cell_type": "code",
   "execution_count": 2,
   "metadata": {},
   "outputs": [],
   "source": [
    "TASK = '../input/de-barch'\n",
    "DEST = '../output/de-barch'"
   ]
  },
  {
   "cell_type": "code",
   "execution_count": 3,
   "metadata": {},
   "outputs": [],
   "source": [
    "def cleanDir(path):\n",
    "    if os.path.exists(path):\n",
    "        rmtree(path)\n",
    "    os.makedirs(path, exist_ok=True)  "
   ]
  },
  {
   "cell_type": "code",
   "execution_count": 11,
   "metadata": {},
   "outputs": [],
   "source": [
    "NS = 'urn:isbn:1-931666-22-9'\n",
    "EMI = 'ehri_main_identifier'\n",
    "TP = 'call number'\n",
    "EA = '3.1.1'\n",
    "ET.register_namespace('', NS)\n",
    "\n",
    "cLevels = collections.Counter()\n",
    "\n",
    "def moveId(fileIn, fileOut):\n",
    "    tree = ET.parse(fileIn)\n",
    "    root = tree.getroot()\n",
    "    didNoId = set()\n",
    "    didMultipleId = set()\n",
    "    didOneId = set()\n",
    "    for cElem in root.iter(f'{{{NS}}}c'):\n",
    "        level = cElem.attrib['level']\n",
    "        cLevels[level] += 1\n",
    "        for didElem in cElem.findall(f'{{{NS}}}did'):\n",
    "            unitidElems = didElem.findall(f'{{{NS}}}unitid')\n",
    "            ids = [u for u in unitidElems if u.attrib['type'] == TP]\n",
    "            nIds = len(ids)\n",
    "            if nIds == 0:\n",
    "                didNoId.add(didElem)\n",
    "            elif nIds == 1:\n",
    "                didOneId.add(didElem)\n",
    "            else:\n",
    "                didMultipleId.add(didElem)\n",
    "            if nIds == 0:\n",
    "                unitidElem = ET.Element('unitid')\n",
    "                unitidElem.text = cElem.attrib['id']\n",
    "                unitidElem.set('label', EMI)\n",
    "                unitidElem.set('encodinganalog', EA)\n",
    "                didElem.insert(0, unitidElem)\n",
    "    print(f'{len(didOneId):<4} x <did> with single identifier')\n",
    "    print(f'{len(didNoId):<4} x <did> without identifier')\n",
    "    print(f'{len(didMultipleId):<4} x <did> with multiple identifiers')\n",
    "    tree.write(fileOut, encoding='unicode', xml_declaration=True)"
   ]
  },
  {
   "cell_type": "code",
   "execution_count": 12,
   "metadata": {},
   "outputs": [
    {
     "name": "stdout",
     "output_type": "stream",
     "text": [
      "processing DE-1958_RH_26-18\n",
      "132  x <did> with single identifier\n",
      "39   x <did> without identifier\n",
      "0    x <did> with multiple identifiers\n"
     ]
    }
   ],
   "source": [
    "cleanDir(DEST)\n",
    "for path in glob(f'{TASK}/*.xml'):\n",
    "    (dir, fileName) = os.path.split(path)\n",
    "    (base, ext) = os.path.splitext(fileName)\n",
    "    outPath = f'{DEST}/{base}{ext}'\n",
    "    print(f'processing {base}')\n",
    "    moveId(path, outPath)"
   ]
  },
  {
   "cell_type": "code",
   "execution_count": 10,
   "metadata": {},
   "outputs": [
    {
     "name": "stdout",
     "output_type": "stream",
     "text": [
      "   1 x fonds\n",
      "   7 x class\n",
      " 132 x file\n",
      "  13 x series\n",
      "  18 x subseries\n"
     ]
    }
   ],
   "source": [
    "for l in cLevels:\n",
    "    print(f'{cLevels[l]:>4} x {l}')"
   ]
  },
  {
   "cell_type": "code",
   "execution_count": null,
   "metadata": {},
   "outputs": [],
   "source": []
  }
 ],
 "metadata": {
  "kernelspec": {
   "display_name": "Python 3",
   "language": "python",
   "name": "python3"
  },
  "language_info": {
   "codemirror_mode": {
    "name": "ipython",
    "version": 3
   },
   "file_extension": ".py",
   "mimetype": "text/x-python",
   "name": "python",
   "nbconvert_exporter": "python",
   "pygments_lexer": "ipython3",
   "version": "3.6.4"
  }
 },
 "nbformat": 4,
 "nbformat_minor": 2
}
