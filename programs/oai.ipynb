{
 "cells": [
  {
   "cell_type": "markdown",
   "metadata": {},
   "source": [
    "# OAI-PMH by record\n",
    "\n",
    "Given a task file with repo urls, metadata schemas, and record identifiers,\n",
    "this program gets that metadata for those records from that repo by means of\n",
    "[OAI-PMH](https://www.openarchives.org/OAI/openarchivesprotocol.html)"
   ]
  },
  {
   "cell_type": "markdown",
   "metadata": {},
   "source": [
    "## Format of the task file\n",
    "\n",
    "The task file is a plain text file.\n",
    "\n",
    "Every line is one of those:\n",
    "\n",
    "* empty or whitespace only: will be ignored\n",
    "* `@` as first character: the rest is *key=value*\n",
    "* a record identifier\n",
    "\n",
    "These are the valid keys:\n",
    "\n",
    "* `set`: the name of the pseudo set of identifiers\n",
    "* `url`: the url of the oai-pmh end-point of a repository\n",
    "* `metadataPrefix`: a metadataPrefix\n",
    "\n",
    "The idea is that all record identifiers will be fetched from the most recent `url` encountered,\n",
    "and for that record we fetch metadata identified by the most recent `metadataPrefix` encountered.\n",
    "\n",
    "These identifiers form sets, every identifier belongs to the most recent `set` encountered."
   ]
  },
  {
   "cell_type": "markdown",
   "metadata": {},
   "source": [
    "## Result of a task\n",
    "\n",
    "When a task has run, the fetched record metadata ends up in a destination directory, one file per record.\n",
    "The files are named `r1.xml`, `r2.xml`, and so on, in the order in which they have been listed in the task file.\n",
    "\n",
    "There will be also a file `index.tsv` which maps the file names to the record identifiers.\n",
    "\n",
    "The reason for this indirection is that the record ids are not always legal file names on all platforms."
   ]
  },
  {
   "cell_type": "code",
   "execution_count": 1,
   "metadata": {},
   "outputs": [],
   "source": [
    "import os\n",
    "import collections\n",
    "from shutil import rmtree\n",
    "from subprocess import run"
   ]
  },
  {
   "cell_type": "code",
   "execution_count": 2,
   "metadata": {},
   "outputs": [],
   "source": [
    "TASK = '../input/theo.txt'\n",
    "DEST = '../_temp/easy'\n",
    "COMMAND = ('curl', '-o')"
   ]
  },
  {
   "cell_type": "code",
   "execution_count": 3,
   "metadata": {},
   "outputs": [],
   "source": [
    "def cleanDir(path):\n",
    "    if os.path.exists(path):\n",
    "        rmtree(path)\n",
    "    os.makedirs(path, exist_ok=True)  "
   ]
  },
  {
   "cell_type": "code",
   "execution_count": 4,
   "metadata": {},
   "outputs": [],
   "source": [
    "def readTask(path):\n",
    "    repos = {}\n",
    "    url = None\n",
    "    prefix = None\n",
    "    setName = None\n",
    "    with open(path) as fh:\n",
    "        for line in fh:\n",
    "            line = line.rstrip()\n",
    "            if not line: continue\n",
    "            if line[0] == '@':\n",
    "                (key, value) = line[1:].split('=', maxsplit=1)\n",
    "                if key == 'url':\n",
    "                    url = value\n",
    "                elif key == 'metadataPrefix':\n",
    "                    prefix = value\n",
    "                elif key == 'set':\n",
    "                    setName = value\n",
    "                continue\n",
    "            repos.setdefault(url, {}).setdefault(setName, {}).setdefault(prefix, []).append(line)\n",
    "    return repos            "
   ]
  },
  {
   "cell_type": "code",
   "execution_count": 7,
   "metadata": {},
   "outputs": [],
   "source": [
    "def doTask(path, dest):\n",
    "    repos = readTask(path)\n",
    "    i = 0\n",
    "    for (url, sets) in repos.items():\n",
    "        for (setName, prefixes) in sets.items():\n",
    "            recordMap = []\n",
    "            setDest = f'{dest}/{setName}'\n",
    "            cleanDir(setDest)\n",
    "            for (prefix, recordIds) in prefixes.items():\n",
    "                for rId in recordIds:\n",
    "                    recordMap.append(rId)\n",
    "                    rUrl = f'{url}?verb=GetRecord&identifier={rId}&metadataPrefix={prefix}'\n",
    "                    rDest = f'{setDest}/r{len(recordMap)}.xml'\n",
    "                    print(f'fetching {rId} ...')\n",
    "                    run(COMMAND + (rDest, rUrl))\n",
    "            with open(f'{setDest}/index.txt', 'w') as fh:\n",
    "                for (i, rId) in enumerate(recordMap):\n",
    "                    fh.write(f'r{i+1}\\t{rId}\\n')"
   ]
  },
  {
   "cell_type": "code",
   "execution_count": 8,
   "metadata": {},
   "outputs": [
    {
     "name": "stdout",
     "output_type": "stream",
     "text": [
      "fetching oai:easy.dans.knaw.nl:easy-dataset:4215 ...\n",
      "fetching oai:easy.dans.knaw.nl:easy-dataset:25037 ...\n",
      "fetching oai:easy.dans.knaw.nl:easy-dataset:30768 ...\n",
      "fetching oai:easy.dans.knaw.nl:easy-dataset:32044 ...\n"
     ]
    }
   ],
   "source": [
    "doTask(TASK, DEST)"
   ]
  },
  {
   "cell_type": "code",
   "execution_count": 9,
   "metadata": {},
   "outputs": [
    {
     "name": "stdout",
     "output_type": "stream",
     "text": [
      "total 0\n",
      "drwxr-xr-x  5 dirk  staff  160 Mar 14 18:28 \u001b[34mtheo1\u001b[m\u001b[m\n",
      "drwxr-xr-x  5 dirk  staff  160 Mar 14 18:28 \u001b[34mtheo2\u001b[m\u001b[m\n",
      "\n",
      "../_temp/easy/theo1:\n",
      "total 24\n",
      "-rw-r--r--  1 dirk  staff    87 Mar 14 18:28 index.txt\n",
      "-rw-r--r--  1 dirk  staff  2714 Mar 14 18:28 r1.xml\n",
      "-rw-r--r--  1 dirk  staff  3303 Mar 14 18:28 r2.xml\n",
      "\n",
      "../_temp/easy/theo2:\n",
      "total 32\n",
      "-rw-r--r--  1 dirk  staff    88 Mar 14 18:28 index.txt\n",
      "-rw-r--r--  1 dirk  staff  5322 Mar 14 18:28 r1.xml\n",
      "-rw-r--r--  1 dirk  staff  3593 Mar 14 18:28 r2.xml\n"
     ]
    }
   ],
   "source": [
    "!ls -lR {DEST}"
   ]
  },
  {
   "cell_type": "code",
   "execution_count": 10,
   "metadata": {},
   "outputs": [
    {
     "name": "stdout",
     "output_type": "stream",
     "text": [
      "r1\toai:easy.dans.knaw.nl:easy-dataset:4215\n",
      "r2\toai:easy.dans.knaw.nl:easy-dataset:25037\n",
      "r1\toai:easy.dans.knaw.nl:easy-dataset:30768\n",
      "r2\toai:easy.dans.knaw.nl:easy-dataset:32044\n"
     ]
    }
   ],
   "source": [
    "!cat {DEST}/*/index.txt"
   ]
  },
  {
   "cell_type": "code",
   "execution_count": null,
   "metadata": {},
   "outputs": [],
   "source": []
  }
 ],
 "metadata": {
  "kernelspec": {
   "display_name": "Python 3",
   "language": "python",
   "name": "python3"
  },
  "language_info": {
   "codemirror_mode": {
    "name": "ipython",
    "version": 3
   },
   "file_extension": ".py",
   "mimetype": "text/x-python",
   "name": "python",
   "nbconvert_exporter": "python",
   "pygments_lexer": "ipython3",
   "version": "3.6.4"
  }
 },
 "nbformat": 4,
 "nbformat_minor": 2
}
